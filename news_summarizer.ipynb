{
 "cells": [
  {
   "cell_type": "code",
   "execution_count": 37,
   "metadata": {
    "colab": {
     "base_uri": "https://localhost:8080/"
    },
    "id": "k-IYDlZ7enTO",
    "outputId": "73859835-d907-46ef-f376-635eeddfc047"
   },
   "outputs": [],
   "source": [
    "#from google.colab import drive\n",
    "#drive.mount('/content/drive')"
   ]
  },
  {
   "cell_type": "code",
   "execution_count": 38,
   "metadata": {
    "colab": {
     "base_uri": "https://localhost:8080/"
    },
    "id": "vRPqYn3rK6ro",
    "outputId": "4787c009-374a-447c-9659-d85ac5fa6835"
   },
   "outputs": [
    {
     "name": "stdout",
     "output_type": "stream",
     "text": [
      "Requirement already satisfied: rouge in c:\\users\\dell\\anaconda3\\lib\\site-packages (1.0.1)\n",
      "Requirement already satisfied: six in c:\\users\\dell\\anaconda3\\lib\\site-packages (from rouge) (1.16.0)\n"
     ]
    }
   ],
   "source": [
    "! pip install rouge"
   ]
  },
  {
   "cell_type": "code",
   "execution_count": 39,
   "metadata": {
    "colab": {
     "base_uri": "https://localhost:8080/"
    },
    "id": "tsO3Afviq2u3",
    "outputId": "b0dcf472-28d2-48ec-baac-361b9f3dc483"
   },
   "outputs": [
    {
     "name": "stderr",
     "output_type": "stream",
     "text": [
      "[nltk_data] Downloading package stopwords to\n",
      "[nltk_data]     C:\\Users\\Dell\\AppData\\Roaming\\nltk_data...\n",
      "[nltk_data]   Package stopwords is already up-to-date!\n",
      "[nltk_data] Downloading package punkt to\n",
      "[nltk_data]     C:\\Users\\Dell\\AppData\\Roaming\\nltk_data...\n",
      "[nltk_data]   Package punkt is already up-to-date!\n",
      "[nltk_data] Downloading package wordnet to\n",
      "[nltk_data]     C:\\Users\\Dell\\AppData\\Roaming\\nltk_data...\n",
      "[nltk_data]   Package wordnet is already up-to-date!\n"
     ]
    },
    {
     "data": {
      "text/plain": [
       "True"
      ]
     },
     "execution_count": 39,
     "metadata": {},
     "output_type": "execute_result"
    }
   ],
   "source": [
    "import math\n",
    "import numpy as np\n",
    "import pandas as pd\n",
    "import nltk\n",
    "from nltk.tokenize import sent_tokenize, word_tokenize\n",
    "from numpy.linalg import svd as singular_value_decomposition\n",
    "from nltk.corpus import stopwords\n",
    "from operator import attrgetter\n",
    "from collections import namedtuple\n",
    "from util_ import *\n",
    "from sklearn.metrics.pairwise import cosine_similarity\n",
    "from sklearn.feature_extraction.text import CountVectorizer,TfidfVectorizer\n",
    "from sklearn.preprocessing import normalize\n",
    "from rouge import Rouge\n",
    "import statistics\n",
    "nltk.download('stopwords')\n",
    "nltk.download('punkt')\n",
    "nltk.download('wordnet')"
   ]
  },
  {
   "cell_type": "code",
   "execution_count": 40,
   "metadata": {
    "id": "aUWV_RDWmUbY"
   },
   "outputs": [],
   "source": [
    "#Please enter the path of new_summary.csv file\n",
    "df = pd.read_csv(\"news_summary.csv\",encoding='iso-8859-1')"
   ]
  },
  {
   "cell_type": "code",
   "execution_count": 41,
   "metadata": {
    "colab": {
     "base_uri": "https://localhost:8080/",
     "height": 337
    },
    "id": "Mz9-I9nmmowW",
    "outputId": "6c2c07d6-8071-40a2-8b8b-b8baec0bcfe1"
   },
   "outputs": [
    {
     "name": "stdout",
     "output_type": "stream",
     "text": [
      "<class 'pandas.core.frame.DataFrame'>\n",
      "RangeIndex: 4514 entries, 0 to 4513\n",
      "Data columns (total 6 columns):\n",
      " #   Column     Non-Null Count  Dtype \n",
      "---  ------     --------------  ----- \n",
      " 0   author     4514 non-null   object\n",
      " 1   date       4514 non-null   object\n",
      " 2   headlines  4514 non-null   object\n",
      " 3   read_more  4514 non-null   object\n",
      " 4   text       4514 non-null   object\n",
      " 5   ctext      4396 non-null   object\n",
      "dtypes: object(6)\n",
      "memory usage: 211.7+ KB\n"
     ]
    }
   ],
   "source": [
    "df.shape\n",
    "df.info()"
   ]
  },
  {
   "cell_type": "code",
   "execution_count": 42,
   "metadata": {
    "id": "qiRzyzgYpWzf"
   },
   "outputs": [
    {
     "data": {
      "text/html": [
       "<div>\n",
       "<style scoped>\n",
       "    .dataframe tbody tr th:only-of-type {\n",
       "        vertical-align: middle;\n",
       "    }\n",
       "\n",
       "    .dataframe tbody tr th {\n",
       "        vertical-align: top;\n",
       "    }\n",
       "\n",
       "    .dataframe thead th {\n",
       "        text-align: right;\n",
       "    }\n",
       "</style>\n",
       "<table border=\"1\" class=\"dataframe\">\n",
       "  <thead>\n",
       "    <tr style=\"text-align: right;\">\n",
       "      <th></th>\n",
       "      <th>author</th>\n",
       "      <th>date</th>\n",
       "      <th>headlines</th>\n",
       "      <th>read_more</th>\n",
       "      <th>text</th>\n",
       "      <th>ctext</th>\n",
       "      <th>article</th>\n",
       "      <th>summary</th>\n",
       "    </tr>\n",
       "  </thead>\n",
       "  <tbody>\n",
       "    <tr>\n",
       "      <th>0</th>\n",
       "      <td>Chhavi Tyagi</td>\n",
       "      <td>03 Aug 2017,Thursday</td>\n",
       "      <td>Daman &amp; Diu revokes mandatory Rakshabandhan in...</td>\n",
       "      <td>http://www.hindustantimes.com/india-news/raksh...</td>\n",
       "      <td>The Administration of Union Territory Daman an...</td>\n",
       "      <td>The Daman and Diu administration on Wednesday ...</td>\n",
       "      <td>The Daman and Diu administration on Wednesday ...</td>\n",
       "      <td>The Administration of Union Territory Daman an...</td>\n",
       "    </tr>\n",
       "    <tr>\n",
       "      <th>1</th>\n",
       "      <td>Daisy Mowke</td>\n",
       "      <td>03 Aug 2017,Thursday</td>\n",
       "      <td>Malaika slams user who trolled her for 'divorc...</td>\n",
       "      <td>http://www.hindustantimes.com/bollywood/malaik...</td>\n",
       "      <td>Malaika Arora slammed an Instagram user who tr...</td>\n",
       "      <td>From her special numbers to TV?appearances, Bo...</td>\n",
       "      <td>From her special numbers to TV?appearances, Bo...</td>\n",
       "      <td>Malaika Arora slammed an Instagram user who tr...</td>\n",
       "    </tr>\n",
       "    <tr>\n",
       "      <th>2</th>\n",
       "      <td>Arshiya Chopra</td>\n",
       "      <td>03 Aug 2017,Thursday</td>\n",
       "      <td>'Virgin' now corrected to 'Unmarried' in IGIMS...</td>\n",
       "      <td>http://www.hindustantimes.com/patna/bihar-igim...</td>\n",
       "      <td>The Indira Gandhi Institute of Medical Science...</td>\n",
       "      <td>The Indira Gandhi Institute of Medical Science...</td>\n",
       "      <td>The Indira Gandhi Institute of Medical Science...</td>\n",
       "      <td>The Indira Gandhi Institute of Medical Science...</td>\n",
       "    </tr>\n",
       "    <tr>\n",
       "      <th>3</th>\n",
       "      <td>Sumedha Sehra</td>\n",
       "      <td>03 Aug 2017,Thursday</td>\n",
       "      <td>Aaj aapne pakad liya: LeT man Dujana before be...</td>\n",
       "      <td>http://indiatoday.intoday.in/story/abu-dujana-...</td>\n",
       "      <td>Lashkar-e-Taiba's Kashmir commander Abu Dujana...</td>\n",
       "      <td>Lashkar-e-Taiba's Kashmir commander Abu Dujana...</td>\n",
       "      <td>Lashkar-e-Taiba's Kashmir commander Abu Dujana...</td>\n",
       "      <td>Lashkar-e-Taiba's Kashmir commander Abu Dujana...</td>\n",
       "    </tr>\n",
       "    <tr>\n",
       "      <th>4</th>\n",
       "      <td>Aarushi Maheshwari</td>\n",
       "      <td>03 Aug 2017,Thursday</td>\n",
       "      <td>Hotel staff to get training to spot signs of s...</td>\n",
       "      <td>http://indiatoday.intoday.in/story/sex-traffic...</td>\n",
       "      <td>Hotels in Maharashtra will train their staff t...</td>\n",
       "      <td>Hotels in Mumbai and other Indian cities are t...</td>\n",
       "      <td>Hotels in Mumbai and other Indian cities are t...</td>\n",
       "      <td>Hotels in Maharashtra will train their staff t...</td>\n",
       "    </tr>\n",
       "    <tr>\n",
       "      <th>...</th>\n",
       "      <td>...</td>\n",
       "      <td>...</td>\n",
       "      <td>...</td>\n",
       "      <td>...</td>\n",
       "      <td>...</td>\n",
       "      <td>...</td>\n",
       "      <td>...</td>\n",
       "      <td>...</td>\n",
       "    </tr>\n",
       "    <tr>\n",
       "      <th>4509</th>\n",
       "      <td>Mansha Mahajan</td>\n",
       "      <td>24 Feb 2017,Friday</td>\n",
       "      <td>Rasna seeking ?250 cr revenue from snack categ...</td>\n",
       "      <td>http://indiatoday.intoday.in/story/rasna-eyes-...</td>\n",
       "      <td>Fruit juice concentrate maker Rasna is eyeing ...</td>\n",
       "      <td>Mumbai, Feb 23 (PTI) Fruit juice concentrate m...</td>\n",
       "      <td>Mumbai, Feb 23 (PTI) Fruit juice concentrate m...</td>\n",
       "      <td>Fruit juice concentrate maker Rasna is eyeing ...</td>\n",
       "    </tr>\n",
       "    <tr>\n",
       "      <th>4510</th>\n",
       "      <td>Dishant Sharma</td>\n",
       "      <td>03 Aug 2017,Thursday</td>\n",
       "      <td>Sachin attends Rajya Sabha after questions on ...</td>\n",
       "      <td>http://indiatoday.intoday.in/story/sachin-tend...</td>\n",
       "      <td>Former Indian cricketer Sachin Tendulkar atten...</td>\n",
       "      <td>Former cricketer Sachin Tendulkar was spotted ...</td>\n",
       "      <td>Former cricketer Sachin Tendulkar was spotted ...</td>\n",
       "      <td>Former Indian cricketer Sachin Tendulkar atten...</td>\n",
       "    </tr>\n",
       "    <tr>\n",
       "      <th>4511</th>\n",
       "      <td>Tanya Dhingra</td>\n",
       "      <td>03 Aug 2017,Thursday</td>\n",
       "      <td>Shouldn't rob their childhood: Aamir on kids r...</td>\n",
       "      <td>http://www.hindustantimes.com/bollywood/secret...</td>\n",
       "      <td>Aamir Khan, while talking about reality shows ...</td>\n",
       "      <td>Aamir Khan, whose last film Dangal told the st...</td>\n",
       "      <td>Aamir Khan, whose last film Dangal told the st...</td>\n",
       "      <td>Aamir Khan, while talking about reality shows ...</td>\n",
       "    </tr>\n",
       "    <tr>\n",
       "      <th>4512</th>\n",
       "      <td>Pragya Swastik</td>\n",
       "      <td>07 Dec 2016,Wednesday</td>\n",
       "      <td>Asha Bhosle gets ?53,000 power bill for unused...</td>\n",
       "      <td>http://indiatoday.intoday.in/story/singer-asha...</td>\n",
       "      <td>The Maharashtra government has initiated an in...</td>\n",
       "      <td>Maharahstra Power Minister Chandrashekhar Bawa...</td>\n",
       "      <td>Maharahstra Power Minister Chandrashekhar Bawa...</td>\n",
       "      <td>The Maharashtra government has initiated an in...</td>\n",
       "    </tr>\n",
       "    <tr>\n",
       "      <th>4513</th>\n",
       "      <td>Chhavi Tyagi</td>\n",
       "      <td>03 Aug 2017,Thursday</td>\n",
       "      <td>More than half of India's languages may die in...</td>\n",
       "      <td>http://indiatoday.intoday.in/story/indian-lang...</td>\n",
       "      <td>At least 400 languages or more than half langu...</td>\n",
       "      <td>More than half of the languages spoken by Indi...</td>\n",
       "      <td>More than half of the languages spoken by Indi...</td>\n",
       "      <td>At least 400 languages or more than half langu...</td>\n",
       "    </tr>\n",
       "  </tbody>\n",
       "</table>\n",
       "<p>4514 rows × 8 columns</p>\n",
       "</div>"
      ],
      "text/plain": [
       "                  author                   date  \\\n",
       "0           Chhavi Tyagi   03 Aug 2017,Thursday   \n",
       "1            Daisy Mowke   03 Aug 2017,Thursday   \n",
       "2         Arshiya Chopra   03 Aug 2017,Thursday   \n",
       "3          Sumedha Sehra   03 Aug 2017,Thursday   \n",
       "4     Aarushi Maheshwari   03 Aug 2017,Thursday   \n",
       "...                  ...                    ...   \n",
       "4509      Mansha Mahajan     24 Feb 2017,Friday   \n",
       "4510      Dishant Sharma   03 Aug 2017,Thursday   \n",
       "4511       Tanya Dhingra   03 Aug 2017,Thursday   \n",
       "4512      Pragya Swastik  07 Dec 2016,Wednesday   \n",
       "4513        Chhavi Tyagi   03 Aug 2017,Thursday   \n",
       "\n",
       "                                              headlines  \\\n",
       "0     Daman & Diu revokes mandatory Rakshabandhan in...   \n",
       "1     Malaika slams user who trolled her for 'divorc...   \n",
       "2     'Virgin' now corrected to 'Unmarried' in IGIMS...   \n",
       "3     Aaj aapne pakad liya: LeT man Dujana before be...   \n",
       "4     Hotel staff to get training to spot signs of s...   \n",
       "...                                                 ...   \n",
       "4509  Rasna seeking ?250 cr revenue from snack categ...   \n",
       "4510  Sachin attends Rajya Sabha after questions on ...   \n",
       "4511  Shouldn't rob their childhood: Aamir on kids r...   \n",
       "4512  Asha Bhosle gets ?53,000 power bill for unused...   \n",
       "4513  More than half of India's languages may die in...   \n",
       "\n",
       "                                              read_more  \\\n",
       "0     http://www.hindustantimes.com/india-news/raksh...   \n",
       "1     http://www.hindustantimes.com/bollywood/malaik...   \n",
       "2     http://www.hindustantimes.com/patna/bihar-igim...   \n",
       "3     http://indiatoday.intoday.in/story/abu-dujana-...   \n",
       "4     http://indiatoday.intoday.in/story/sex-traffic...   \n",
       "...                                                 ...   \n",
       "4509  http://indiatoday.intoday.in/story/rasna-eyes-...   \n",
       "4510  http://indiatoday.intoday.in/story/sachin-tend...   \n",
       "4511  http://www.hindustantimes.com/bollywood/secret...   \n",
       "4512  http://indiatoday.intoday.in/story/singer-asha...   \n",
       "4513  http://indiatoday.intoday.in/story/indian-lang...   \n",
       "\n",
       "                                                   text  \\\n",
       "0     The Administration of Union Territory Daman an...   \n",
       "1     Malaika Arora slammed an Instagram user who tr...   \n",
       "2     The Indira Gandhi Institute of Medical Science...   \n",
       "3     Lashkar-e-Taiba's Kashmir commander Abu Dujana...   \n",
       "4     Hotels in Maharashtra will train their staff t...   \n",
       "...                                                 ...   \n",
       "4509  Fruit juice concentrate maker Rasna is eyeing ...   \n",
       "4510  Former Indian cricketer Sachin Tendulkar atten...   \n",
       "4511  Aamir Khan, while talking about reality shows ...   \n",
       "4512  The Maharashtra government has initiated an in...   \n",
       "4513  At least 400 languages or more than half langu...   \n",
       "\n",
       "                                                  ctext  \\\n",
       "0     The Daman and Diu administration on Wednesday ...   \n",
       "1     From her special numbers to TV?appearances, Bo...   \n",
       "2     The Indira Gandhi Institute of Medical Science...   \n",
       "3     Lashkar-e-Taiba's Kashmir commander Abu Dujana...   \n",
       "4     Hotels in Mumbai and other Indian cities are t...   \n",
       "...                                                 ...   \n",
       "4509  Mumbai, Feb 23 (PTI) Fruit juice concentrate m...   \n",
       "4510  Former cricketer Sachin Tendulkar was spotted ...   \n",
       "4511  Aamir Khan, whose last film Dangal told the st...   \n",
       "4512  Maharahstra Power Minister Chandrashekhar Bawa...   \n",
       "4513  More than half of the languages spoken by Indi...   \n",
       "\n",
       "                                                article  \\\n",
       "0     The Daman and Diu administration on Wednesday ...   \n",
       "1     From her special numbers to TV?appearances, Bo...   \n",
       "2     The Indira Gandhi Institute of Medical Science...   \n",
       "3     Lashkar-e-Taiba's Kashmir commander Abu Dujana...   \n",
       "4     Hotels in Mumbai and other Indian cities are t...   \n",
       "...                                                 ...   \n",
       "4509  Mumbai, Feb 23 (PTI) Fruit juice concentrate m...   \n",
       "4510  Former cricketer Sachin Tendulkar was spotted ...   \n",
       "4511  Aamir Khan, whose last film Dangal told the st...   \n",
       "4512  Maharahstra Power Minister Chandrashekhar Bawa...   \n",
       "4513  More than half of the languages spoken by Indi...   \n",
       "\n",
       "                                                summary  \n",
       "0     The Administration of Union Territory Daman an...  \n",
       "1     Malaika Arora slammed an Instagram user who tr...  \n",
       "2     The Indira Gandhi Institute of Medical Science...  \n",
       "3     Lashkar-e-Taiba's Kashmir commander Abu Dujana...  \n",
       "4     Hotels in Maharashtra will train their staff t...  \n",
       "...                                                 ...  \n",
       "4509  Fruit juice concentrate maker Rasna is eyeing ...  \n",
       "4510  Former Indian cricketer Sachin Tendulkar atten...  \n",
       "4511  Aamir Khan, while talking about reality shows ...  \n",
       "4512  The Maharashtra government has initiated an in...  \n",
       "4513  At least 400 languages or more than half langu...  \n",
       "\n",
       "[4514 rows x 8 columns]"
      ]
     },
     "execution_count": 42,
     "metadata": {},
     "output_type": "execute_result"
    }
   ],
   "source": [
    "df['article'] = df['ctext']\n",
    "df['summary'] = df['text']\n",
    "df.shape\n",
    "df"
   ]
  },
  {
   "cell_type": "markdown",
   "metadata": {
    "id": "rYK9URqPDGct"
   },
   "source": [
    "Remove extra features like author, date, article link which does not affect news summary\n",
    "\n",
    "Drop the null values and reset index"
   ]
  },
  {
   "cell_type": "code",
   "execution_count": 43,
   "metadata": {
    "id": "40ZtazMxnZj3"
   },
   "outputs": [
    {
     "data": {
      "text/html": [
       "<div>\n",
       "<style scoped>\n",
       "    .dataframe tbody tr th:only-of-type {\n",
       "        vertical-align: middle;\n",
       "    }\n",
       "\n",
       "    .dataframe tbody tr th {\n",
       "        vertical-align: top;\n",
       "    }\n",
       "\n",
       "    .dataframe thead th {\n",
       "        text-align: right;\n",
       "    }\n",
       "</style>\n",
       "<table border=\"1\" class=\"dataframe\">\n",
       "  <thead>\n",
       "    <tr style=\"text-align: right;\">\n",
       "      <th></th>\n",
       "      <th>index</th>\n",
       "      <th>headlines</th>\n",
       "      <th>article</th>\n",
       "      <th>summary</th>\n",
       "    </tr>\n",
       "  </thead>\n",
       "  <tbody>\n",
       "    <tr>\n",
       "      <th>0</th>\n",
       "      <td>0</td>\n",
       "      <td>Daman &amp; Diu revokes mandatory Rakshabandhan in...</td>\n",
       "      <td>The Daman and Diu administration on Wednesday ...</td>\n",
       "      <td>The Administration of Union Territory Daman an...</td>\n",
       "    </tr>\n",
       "    <tr>\n",
       "      <th>1</th>\n",
       "      <td>1</td>\n",
       "      <td>Malaika slams user who trolled her for 'divorc...</td>\n",
       "      <td>From her special numbers to TV?appearances, Bo...</td>\n",
       "      <td>Malaika Arora slammed an Instagram user who tr...</td>\n",
       "    </tr>\n",
       "    <tr>\n",
       "      <th>2</th>\n",
       "      <td>2</td>\n",
       "      <td>'Virgin' now corrected to 'Unmarried' in IGIMS...</td>\n",
       "      <td>The Indira Gandhi Institute of Medical Science...</td>\n",
       "      <td>The Indira Gandhi Institute of Medical Science...</td>\n",
       "    </tr>\n",
       "    <tr>\n",
       "      <th>3</th>\n",
       "      <td>3</td>\n",
       "      <td>Aaj aapne pakad liya: LeT man Dujana before be...</td>\n",
       "      <td>Lashkar-e-Taiba's Kashmir commander Abu Dujana...</td>\n",
       "      <td>Lashkar-e-Taiba's Kashmir commander Abu Dujana...</td>\n",
       "    </tr>\n",
       "    <tr>\n",
       "      <th>4</th>\n",
       "      <td>4</td>\n",
       "      <td>Hotel staff to get training to spot signs of s...</td>\n",
       "      <td>Hotels in Mumbai and other Indian cities are t...</td>\n",
       "      <td>Hotels in Maharashtra will train their staff t...</td>\n",
       "    </tr>\n",
       "    <tr>\n",
       "      <th>...</th>\n",
       "      <td>...</td>\n",
       "      <td>...</td>\n",
       "      <td>...</td>\n",
       "      <td>...</td>\n",
       "    </tr>\n",
       "    <tr>\n",
       "      <th>4391</th>\n",
       "      <td>4509</td>\n",
       "      <td>Rasna seeking ?250 cr revenue from snack categ...</td>\n",
       "      <td>Mumbai, Feb 23 (PTI) Fruit juice concentrate m...</td>\n",
       "      <td>Fruit juice concentrate maker Rasna is eyeing ...</td>\n",
       "    </tr>\n",
       "    <tr>\n",
       "      <th>4392</th>\n",
       "      <td>4510</td>\n",
       "      <td>Sachin attends Rajya Sabha after questions on ...</td>\n",
       "      <td>Former cricketer Sachin Tendulkar was spotted ...</td>\n",
       "      <td>Former Indian cricketer Sachin Tendulkar atten...</td>\n",
       "    </tr>\n",
       "    <tr>\n",
       "      <th>4393</th>\n",
       "      <td>4511</td>\n",
       "      <td>Shouldn't rob their childhood: Aamir on kids r...</td>\n",
       "      <td>Aamir Khan, whose last film Dangal told the st...</td>\n",
       "      <td>Aamir Khan, while talking about reality shows ...</td>\n",
       "    </tr>\n",
       "    <tr>\n",
       "      <th>4394</th>\n",
       "      <td>4512</td>\n",
       "      <td>Asha Bhosle gets ?53,000 power bill for unused...</td>\n",
       "      <td>Maharahstra Power Minister Chandrashekhar Bawa...</td>\n",
       "      <td>The Maharashtra government has initiated an in...</td>\n",
       "    </tr>\n",
       "    <tr>\n",
       "      <th>4395</th>\n",
       "      <td>4513</td>\n",
       "      <td>More than half of India's languages may die in...</td>\n",
       "      <td>More than half of the languages spoken by Indi...</td>\n",
       "      <td>At least 400 languages or more than half langu...</td>\n",
       "    </tr>\n",
       "  </tbody>\n",
       "</table>\n",
       "<p>4396 rows × 4 columns</p>\n",
       "</div>"
      ],
      "text/plain": [
       "      index                                          headlines  \\\n",
       "0         0  Daman & Diu revokes mandatory Rakshabandhan in...   \n",
       "1         1  Malaika slams user who trolled her for 'divorc...   \n",
       "2         2  'Virgin' now corrected to 'Unmarried' in IGIMS...   \n",
       "3         3  Aaj aapne pakad liya: LeT man Dujana before be...   \n",
       "4         4  Hotel staff to get training to spot signs of s...   \n",
       "...     ...                                                ...   \n",
       "4391   4509  Rasna seeking ?250 cr revenue from snack categ...   \n",
       "4392   4510  Sachin attends Rajya Sabha after questions on ...   \n",
       "4393   4511  Shouldn't rob their childhood: Aamir on kids r...   \n",
       "4394   4512  Asha Bhosle gets ?53,000 power bill for unused...   \n",
       "4395   4513  More than half of India's languages may die in...   \n",
       "\n",
       "                                                article  \\\n",
       "0     The Daman and Diu administration on Wednesday ...   \n",
       "1     From her special numbers to TV?appearances, Bo...   \n",
       "2     The Indira Gandhi Institute of Medical Science...   \n",
       "3     Lashkar-e-Taiba's Kashmir commander Abu Dujana...   \n",
       "4     Hotels in Mumbai and other Indian cities are t...   \n",
       "...                                                 ...   \n",
       "4391  Mumbai, Feb 23 (PTI) Fruit juice concentrate m...   \n",
       "4392  Former cricketer Sachin Tendulkar was spotted ...   \n",
       "4393  Aamir Khan, whose last film Dangal told the st...   \n",
       "4394  Maharahstra Power Minister Chandrashekhar Bawa...   \n",
       "4395  More than half of the languages spoken by Indi...   \n",
       "\n",
       "                                                summary  \n",
       "0     The Administration of Union Territory Daman an...  \n",
       "1     Malaika Arora slammed an Instagram user who tr...  \n",
       "2     The Indira Gandhi Institute of Medical Science...  \n",
       "3     Lashkar-e-Taiba's Kashmir commander Abu Dujana...  \n",
       "4     Hotels in Maharashtra will train their staff t...  \n",
       "...                                                 ...  \n",
       "4391  Fruit juice concentrate maker Rasna is eyeing ...  \n",
       "4392  Former Indian cricketer Sachin Tendulkar atten...  \n",
       "4393  Aamir Khan, while talking about reality shows ...  \n",
       "4394  The Maharashtra government has initiated an in...  \n",
       "4395  At least 400 languages or more than half langu...  \n",
       "\n",
       "[4396 rows x 4 columns]"
      ]
     },
     "execution_count": 43,
     "metadata": {},
     "output_type": "execute_result"
    }
   ],
   "source": [
    "df.drop(['author','date','read_more','text','ctext'],axis=1,inplace=True)\n",
    "df.dropna(inplace=True)\n",
    "df.reset_index(inplace = True)\n",
    "df"
   ]
  },
  {
   "cell_type": "code",
   "execution_count": 44,
   "metadata": {
    "id": "GiOOg04XthAp"
   },
   "outputs": [],
   "source": [
    "w_tokenizer = nltk.tokenize.WhitespaceTokenizer()\n",
    "lemmatizer = nltk.stem.WordNetLemmatizer()"
   ]
  },
  {
   "cell_type": "code",
   "execution_count": 45,
   "metadata": {
    "id": "1sevIBiBtlEG"
   },
   "outputs": [],
   "source": [
    "def lemmatize_tokenize_text(text):\n",
    "    return [lemmatizer.lemmatize(w) for w in w_tokenizer.tokenize(text)]\n",
    "\n",
    "def join_words(lst):\n",
    "  return ' '.join(lst)"
   ]
  },
  {
   "cell_type": "code",
   "execution_count": 46,
   "metadata": {},
   "outputs": [
    {
     "data": {
      "text/plain": [
       "'pony'"
      ]
     },
     "execution_count": 46,
     "metadata": {},
     "output_type": "execute_result"
    }
   ],
   "source": [
    "lemmatizer.lemmatize('ponies')"
   ]
  },
  {
   "cell_type": "markdown",
   "metadata": {
    "id": "dJ2nT101Dm8H"
   },
   "source": [
    "Performing stemming and space tokenization to clean the article and summary"
   ]
  },
  {
   "cell_type": "code",
   "execution_count": 47,
   "metadata": {
    "id": "q_qRxNMgtnya"
   },
   "outputs": [],
   "source": [
    "df['article'] = df['article'].apply(lemmatize_tokenize_text)\n",
    "df['summary'] = df['summary'].apply(lemmatize_tokenize_text)"
   ]
  },
  {
   "cell_type": "code",
   "execution_count": 48,
   "metadata": {
    "id": "F01GMl9kvc-D"
   },
   "outputs": [],
   "source": [
    "df['article'] = df['article'].apply(join_words)\n",
    "df['summary'] = df['summary'].apply(join_words)"
   ]
  },
  {
   "cell_type": "code",
   "execution_count": 49,
   "metadata": {
    "colab": {
     "base_uri": "https://localhost:8080/"
    },
    "id": "RDVL69z0ps6X",
    "outputId": "a19f5d39-e160-4eb4-818e-042503d9286e"
   },
   "outputs": [
    {
     "name": "stdout",
     "output_type": "stream",
     "text": [
      "<class 'pandas.core.frame.DataFrame'>\n",
      "RangeIndex: 4396 entries, 0 to 4395\n",
      "Data columns (total 4 columns):\n",
      " #   Column     Non-Null Count  Dtype \n",
      "---  ------     --------------  ----- \n",
      " 0   index      4396 non-null   int64 \n",
      " 1   headlines  4396 non-null   object\n",
      " 2   article    4396 non-null   object\n",
      " 3   summary    4396 non-null   object\n",
      "dtypes: int64(1), object(3)\n",
      "memory usage: 137.5+ KB\n"
     ]
    }
   ],
   "source": [
    "df.info()"
   ]
  },
  {
   "cell_type": "code",
   "execution_count": 69,
   "metadata": {
    "colab": {
     "base_uri": "https://localhost:8080/",
     "height": 140
    },
    "id": "UW8SLwompvkU",
    "outputId": "de17b514-2b5e-4a48-a2ef-582c04ca0207"
   },
   "outputs": [
    {
     "data": {
      "text/plain": [
       "'The Reserve Bank of India (RBI) stopped printing 2,000-rupee note about five month ago, stepping up instead the production of smaller bills, including a new Rs 200, people familiar with the matter said on Tuesday.The central bank is also unlikely to print more 2000-rupee note in the current financial year, they said on condition of anonymity.The government brought in the 2000-rupee note to quickly tide over a cash crunch from demonetisation, but fewer lower-value currency in circulation meant people struggled to change the big denomination bill.The RBI?s focus now on printing small bill is aimed at bridging that gap.About 3.7 billion 2,000-rupee note amounting to Rs 7.4 trillion have been printed, said one of the people cited above. That more than compensates for the 6.3 billion 1,000-rupee bill withdrawn from November 8.?Most of the printing that?s being done, about 90% is only 500-rupee notes. Nearly 14 billion piece of new 500-rupee note have been printed so far,? one of the people cited above said.That is also close to the 15.7 billion of old 500-rupee note (amounting to Rs7.85 trillion) withdrawn from circulation after November 8.Not all the new note printed so far have been released into circulation by the central bank.RBI data show that currency in circulation stood at Rs 15.22 trillion a on 14 July, eight month after demonetisation. This is about 86% of the Rs 17.7 trillion that wa in circulation on November 4.Separately, the RBI?s Mysore press ha also started printing the new 200-rupee bills, which are likely to come into circulation next month, according to a second person.?Initially, around a billion 200-rupee note are expected to hit the market,? this person added.The central bank did not respond to an email seeking comment.The new batch of 500-rupee note are expected to ease the shortage of 2,000-rupee note in circulation that is being reported in certain part of the country.?The cash crunch which existed till two month ago ha now eased with RBI increasing supply of 500-rupee note over the last 40 days,? said Neeraj Vyas, deputy managing director, State Bank of India (SBI).?But we have also seen a sharp drop in the supply of 2,000-rupee note during this period.?A July 19 report from SBI?s economic research wing showed that cash on hand with bank is high at 5.4% of currency in circulation compared with 3.8% pre-demonetisation. This show that there is excess cash lying in ATMs or bank branches, most of which could mostly be 2,000-rupee notes, concluded the report.?Although we haven?t seen any drop in supply of 2,000-rupee notes, we expect it to be moved out of ATMs once 200-rupee note hit the market,? said Radha Rama Dorai, country head, ATM and allied services, at ATM service provider FIS.(Additional reporting by Mahua Venkatesh)'"
      ]
     },
     "execution_count": 69,
     "metadata": {},
     "output_type": "execute_result"
    }
   ],
   "source": [
    "df['article'][512]"
   ]
  },
  {
   "cell_type": "code",
   "execution_count": 51,
   "metadata": {
    "colab": {
     "base_uri": "https://localhost:8080/",
     "height": 70
    },
    "id": "2DcxZaRRpzTV",
    "outputId": "56524ce8-869a-46a9-d171-8d960af9b573"
   },
   "outputs": [
    {
     "data": {
      "text/plain": [
       "'The Administration of Union Territory Daman and Diu ha revoked it order that made it compulsory for woman to tie rakhis to their male colleague on the occasion of Rakshabandhan on August 7. The administration wa forced to withdraw the decision within 24 hour of issuing the circular after it received flak from employee and wa slammed on social media.'"
      ]
     },
     "execution_count": 51,
     "metadata": {},
     "output_type": "execute_result"
    }
   ],
   "source": [
    "df['summary'][0]"
   ]
  },
  {
   "cell_type": "code",
   "execution_count": 52,
   "metadata": {
    "id": "InYef5hRAJqL"
   },
   "outputs": [],
   "source": [
    "stop_words = list(stopwords.words('english'))\n",
    "MIN_DIMENSIONS = 3\n",
    "REDUCTION_RATIO = 1/5\n",
    "SentenceInfo = namedtuple(\"SentenceInfo\", (\"sentence\", \"order\", \"rating\",))"
   ]
  },
  {
   "cell_type": "code",
   "execution_count": 53,
   "metadata": {
    "id": "aZ_Q2xk19qVu"
   },
   "outputs": [],
   "source": [
    "#Creating word dictionary, where key is the word and value is the row index\n",
    "#We also remove the stop words before adding them in dictionary and change everyone to lowercase\n",
    "def to_lower(word):\n",
    "  return word.lower()\n",
    "\n",
    "def create_dictionary(article):\n",
    "    words = word_tokenize(article)\n",
    "    words = tuple(words)\n",
    "    words = map(to_lower,words)\n",
    "    unique_words = frozenset(w for w in words if w not in stop_words)\n",
    "    \n",
    "    return dict((w, i) for i, w in enumerate(unique_words))\n"
   ]
  },
  {
   "cell_type": "code",
   "execution_count": 54,
   "metadata": {
    "id": "7Y0BDTk2DN5H"
   },
   "outputs": [],
   "source": [
    "#Create the word document matrix using text article and its corresponding dictionary\n",
    "#Sentance tokenize the article and then store the frequency(stored in dictionary) for words corresponding to each sentence\n",
    "def create_matrix(article, dictionary):\n",
    "    sentences = sent_tokenize(article)\n",
    "    words_count = len(dictionary)\n",
    "    sentences_count = len(sentences)\n",
    "    matrix = np.zeros((words_count, sentences_count))\n",
    "    for col, sentence in enumerate(sentences):\n",
    "        words = word_tokenize(sentence)\n",
    "        for word in words:\n",
    "            # only valid words is counted (not stop-words, ...)\n",
    "            if word in dictionary:\n",
    "                row = dictionary[word]\n",
    "                matrix[row, col] += 1\n",
    "\n",
    "    return matrix \n"
   ]
  },
  {
   "cell_type": "code",
   "execution_count": 55,
   "metadata": {
    "id": "QCxwfyBGEYgC"
   },
   "outputs": [],
   "source": [
    "#Normalize the matrix by dividing each column with its max value\n",
    "def compute_term_freq(matrix):\n",
    "    smooth=0.4\n",
    "    max_word_frequencies = np.max(matrix, axis=0)\n",
    "    rows, cols = matrix.shape\n",
    "    for row in range(rows):\n",
    "        for col in range(cols):\n",
    "            max_word_frequency = max_word_frequencies[col]\n",
    "            if max_word_frequency != 0:\n",
    "                frequency = matrix[row, col]/max_word_frequency\n",
    "                matrix[row, col] = smooth + (1.0 - smooth)*frequency\n",
    "\n",
    "    return matrix"
   ]
  },
  {
   "cell_type": "code",
   "execution_count": 56,
   "metadata": {
    "id": "Fld_HT9FG7kd"
   },
   "outputs": [],
   "source": [
    "#Perform truncated SVD by extracting the top topics and then multiplying them to get the ranks\n",
    "#We extract the top columns(columns having highest values) and multiply them with v_matrix\n",
    "def compute_rank(sigma, v_matrix):\n",
    "    dimensions = max(MIN_DIMENSIONS,int(len(sigma)*REDUCTION_RATIO))\n",
    "    powered_sigma = tuple(s**2 if i < dimensions else 0.0 for i, s in enumerate(sigma))\n",
    "\n",
    "    ranks = []\n",
    "    \n",
    "    for column_vector in v_matrix.T:\n",
    "        rank = sum(s*v**2 for s, v in zip(powered_sigma, column_vector))\n",
    "        ranks.append(math.sqrt(rank))\n",
    "\n",
    "    return ranks"
   ]
  },
  {
   "cell_type": "code",
   "execution_count": 57,
   "metadata": {
    "id": "ugwUyzC8p2fX"
   },
   "outputs": [],
   "source": [
    "#Perform LSA Summarization\n",
    "def text_summarizer(article,summary_len=1):\n",
    "  article = str(article)\n",
    "  stop_words = list(stopwords.words('english'))\n",
    "  dictionary = create_dictionary(article)\n",
    "  sentences = sent_tokenize(article)\n",
    "  matrix = create_matrix(article,dictionary)\n",
    "  matrix = compute_term_freq(matrix)\n",
    "  u, sigma, v = singular_value_decomposition(matrix, full_matrices=False)\n",
    "  ranks = iter(compute_rank(sigma, v))\n",
    "  summarized_sentance = get_top_sentence(sentences,summary_len,lambda s: next(ranks))\n",
    "  return ' '.join(summarized_sentance)"
   ]
  },
  {
   "cell_type": "markdown",
   "metadata": {
    "id": "LYMHVZgJIwzM"
   },
   "source": [
    "We have assumed the best predicted summarized sentence(summary of length 1) to be our predicted_headline.\n",
    "\n",
    "We have applied text summarization on article to get predicted_summary of length 3."
   ]
  },
  {
   "cell_type": "code",
   "execution_count": 58,
   "metadata": {
    "id": "KdNzaX_MLZik"
   },
   "outputs": [],
   "source": [
    "df['predicted_headline'] = df['article'].apply(text_summarizer)"
   ]
  },
  {
   "cell_type": "code",
   "execution_count": 59,
   "metadata": {
    "id": "IFlcH-CMVM3e"
   },
   "outputs": [],
   "source": [
    "df['predicted_summary'] = df['article'].apply(lambda x : text_summarizer(x,3))"
   ]
  },
  {
   "cell_type": "code",
   "execution_count": 60,
   "metadata": {
    "colab": {
     "base_uri": "https://localhost:8080/",
     "height": 337
    },
    "id": "pF-Lwzs-ZYT6",
    "outputId": "bdaa9692-8480-4ddc-96ed-e9a5c31e40ba"
   },
   "outputs": [
    {
     "data": {
      "text/html": [
       "<div>\n",
       "<style scoped>\n",
       "    .dataframe tbody tr th:only-of-type {\n",
       "        vertical-align: middle;\n",
       "    }\n",
       "\n",
       "    .dataframe tbody tr th {\n",
       "        vertical-align: top;\n",
       "    }\n",
       "\n",
       "    .dataframe thead th {\n",
       "        text-align: right;\n",
       "    }\n",
       "</style>\n",
       "<table border=\"1\" class=\"dataframe\">\n",
       "  <thead>\n",
       "    <tr style=\"text-align: right;\">\n",
       "      <th></th>\n",
       "      <th>index</th>\n",
       "      <th>headlines</th>\n",
       "      <th>article</th>\n",
       "      <th>summary</th>\n",
       "      <th>predicted_headline</th>\n",
       "      <th>predicted_summary</th>\n",
       "    </tr>\n",
       "  </thead>\n",
       "  <tbody>\n",
       "    <tr>\n",
       "      <th>4391</th>\n",
       "      <td>4509</td>\n",
       "      <td>Rasna seeking ?250 cr revenue from snack categ...</td>\n",
       "      <td>Mumbai, Feb 23 (PTI) Fruit juice concentrate m...</td>\n",
       "      <td>Fruit juice concentrate maker Rasna is eyeing ...</td>\n",
       "      <td>Mumbai, Feb 23 (PTI) Fruit juice concentrate m...</td>\n",
       "      <td>Mumbai, Feb 23 (PTI) Fruit juice concentrate m...</td>\n",
       "    </tr>\n",
       "    <tr>\n",
       "      <th>4392</th>\n",
       "      <td>4510</td>\n",
       "      <td>Sachin attends Rajya Sabha after questions on ...</td>\n",
       "      <td>Former cricketer Sachin Tendulkar wa spotted i...</td>\n",
       "      <td>Former Indian cricketer Sachin Tendulkar atten...</td>\n",
       "      <td>Boxer Mary Kom too wa present in the House tod...</td>\n",
       "      <td>Former cricketer Sachin Tendulkar wa spotted i...</td>\n",
       "    </tr>\n",
       "    <tr>\n",
       "      <th>4393</th>\n",
       "      <td>4511</td>\n",
       "      <td>Shouldn't rob their childhood: Aamir on kids r...</td>\n",
       "      <td>Aamir Khan, whose last film Dangal told the st...</td>\n",
       "      <td>Aamir Khan, while talking about reality show o...</td>\n",
       "      <td>But it cut both way (referring to kid getting ...</td>\n",
       "      <td>When our kid were younger, we used to show the...</td>\n",
       "    </tr>\n",
       "    <tr>\n",
       "      <th>4394</th>\n",
       "      <td>4512</td>\n",
       "      <td>Asha Bhosle gets ?53,000 power bill for unused...</td>\n",
       "      <td>Maharahstra Power Minister Chandrashekhar Bawa...</td>\n",
       "      <td>The Maharashtra government ha initiated an inq...</td>\n",
       "      <td>The textile industry in hub like Bhiwandi, Ich...</td>\n",
       "      <td>Maharahstra Power Minister Chandrashekhar Bawa...</td>\n",
       "    </tr>\n",
       "    <tr>\n",
       "      <th>4395</th>\n",
       "      <td>4513</td>\n",
       "      <td>More than half of India's languages may die in...</td>\n",
       "      <td>More than half of the language spoken by India...</td>\n",
       "      <td>At least 400 language or more than half langua...</td>\n",
       "      <td>Similarly there are several old language which...</td>\n",
       "      <td>More than half of the language spoken by India...</td>\n",
       "    </tr>\n",
       "  </tbody>\n",
       "</table>\n",
       "</div>"
      ],
      "text/plain": [
       "      index                                          headlines  \\\n",
       "4391   4509  Rasna seeking ?250 cr revenue from snack categ...   \n",
       "4392   4510  Sachin attends Rajya Sabha after questions on ...   \n",
       "4393   4511  Shouldn't rob their childhood: Aamir on kids r...   \n",
       "4394   4512  Asha Bhosle gets ?53,000 power bill for unused...   \n",
       "4395   4513  More than half of India's languages may die in...   \n",
       "\n",
       "                                                article  \\\n",
       "4391  Mumbai, Feb 23 (PTI) Fruit juice concentrate m...   \n",
       "4392  Former cricketer Sachin Tendulkar wa spotted i...   \n",
       "4393  Aamir Khan, whose last film Dangal told the st...   \n",
       "4394  Maharahstra Power Minister Chandrashekhar Bawa...   \n",
       "4395  More than half of the language spoken by India...   \n",
       "\n",
       "                                                summary  \\\n",
       "4391  Fruit juice concentrate maker Rasna is eyeing ...   \n",
       "4392  Former Indian cricketer Sachin Tendulkar atten...   \n",
       "4393  Aamir Khan, while talking about reality show o...   \n",
       "4394  The Maharashtra government ha initiated an inq...   \n",
       "4395  At least 400 language or more than half langua...   \n",
       "\n",
       "                                     predicted_headline  \\\n",
       "4391  Mumbai, Feb 23 (PTI) Fruit juice concentrate m...   \n",
       "4392  Boxer Mary Kom too wa present in the House tod...   \n",
       "4393  But it cut both way (referring to kid getting ...   \n",
       "4394  The textile industry in hub like Bhiwandi, Ich...   \n",
       "4395  Similarly there are several old language which...   \n",
       "\n",
       "                                      predicted_summary  \n",
       "4391  Mumbai, Feb 23 (PTI) Fruit juice concentrate m...  \n",
       "4392  Former cricketer Sachin Tendulkar wa spotted i...  \n",
       "4393  When our kid were younger, we used to show the...  \n",
       "4394  Maharahstra Power Minister Chandrashekhar Bawa...  \n",
       "4395  More than half of the language spoken by India...  "
      ]
     },
     "execution_count": 60,
     "metadata": {},
     "output_type": "execute_result"
    }
   ],
   "source": [
    "df.tail()"
   ]
  },
  {
   "cell_type": "code",
   "execution_count": 70,
   "metadata": {
    "colab": {
     "base_uri": "https://localhost:8080/"
    },
    "id": "t_f8sCdSZwrK",
    "outputId": "34e3c21b-414f-4aad-f693-b4bc66b3b302"
   },
   "outputs": [
    {
     "data": {
      "text/plain": [
       "'The Reserve Bank of India (RBI) stopped printing 2,000-rupee note about five month ago, stepping up instead the production of smaller bills, including a new Rs 200, people familiar with the matter said on Tuesday.The central bank is also unlikely to print more 2000-rupee note in the current financial year, they said on condition of anonymity.The government brought in the 2000-rupee note to quickly tide over a cash crunch from demonetisation, but fewer lower-value currency in circulation meant people struggled to change the big denomination bill.The RBI?s focus now on printing small bill is aimed at bridging that gap.About 3.7 billion 2,000-rupee note amounting to Rs 7.4 trillion have been printed, said one of the people cited above. Nearly 14 billion piece of new 500-rupee note have been printed so far,? ?But we have also seen a sharp drop in the supply of 2,000-rupee note during this period.'"
      ]
     },
     "execution_count": 70,
     "metadata": {},
     "output_type": "execute_result"
    }
   ],
   "source": [
    "df['predicted_summary'][512]\n"
   ]
  },
  {
   "cell_type": "code",
   "execution_count": 62,
   "metadata": {},
   "outputs": [
    {
     "name": "stdout",
     "output_type": "stream",
     "text": [
      "The Daman and Diu administration on Wednesday withdrew a circular that asked women staff to tie rakhis on male colleagues after the order triggered a backlash from employees and was ripped apart on social media.The union territory?s administration was forced to retreat within 24 hours of issuing the circular that made it compulsory for its staff to celebrate Rakshabandhan at workplace.?It has been decided to celebrate the festival of Rakshabandhan on August 7. In this connection, all offices/ departments shall remain open and celebrate the festival collectively at a suitable time wherein all the lady staff shall tie rakhis to their colleagues,? the order, issued on August 1 by Gurpreet Singh, deputy secretary (personnel), had said.To ensure that no one skipped office, an attendance report was to be sent to the government the next evening.The two notifications ? one mandating the celebration of Rakshabandhan (left) and the other withdrawing the mandate (right) ? were issued by the Daman and Diu administration a day apart. The circular was withdrawn through a one-line order issued late in the evening by the UT?s department of personnel and administrative reforms.?The circular is ridiculous. There are sensitivities involved. How can the government dictate who I should tie rakhi to? We should maintain the professionalism of a workplace? an official told Hindustan Times earlier in the day. She refused to be identified.The notice was issued on Daman and Diu administrator and former Gujarat home minister Praful Kodabhai Patel?s direction, sources said.Rakshabandhan, a celebration of the bond between brothers and sisters, is one of several Hindu festivities and rituals that are no longer confined of private, family affairs but have become tools to push politic al ideologies.In 2014, the year BJP stormed to power at the Centre, Rashtriya Swayamsevak Sangh (RSS) chief Mohan Bhagwat said the festival had ?national significance? and should be celebrated widely ?to protect Hindu culture and live by the values enshrined in it?. The RSS is the ideological parent of the ruling BJP.Last year, women ministers in the Modi government went to the border areas to celebrate the festival with soldiers. A year before, all cabinet ministers were asked to go to their constituencies for the festival.\n"
     ]
    }
   ],
   "source": [
    "print('The Daman and Diu administration on Wednesday withdrew a circular that asked women staff to tie rakhis on male colleagues after the order triggered a backlash from employees and was ripped apart on social media.The union territory?s administration was forced to retreat within 24 hours of issuing the circular that made it compulsory for its staff to celebrate Rakshabandhan at workplace.?It has been decided to celebrate the festival of Rakshabandhan on August 7. In this connection, all offices/ departments shall remain open and celebrate the festival collectively at a suitable time wherein all the lady staff shall tie rakhis to their colleagues,? the order, issued on August 1 by Gurpreet Singh, deputy secretary (personnel), had said.To ensure that no one skipped office, an attendance report was to be sent to the government the next evening.The two notifications ? one mandating the celebration of Rakshabandhan (left) and the other withdrawing the mandate (right) ? were issued by the Daman and Diu administration a day apart. The circular was withdrawn through a one-line order issued late in the evening by the UT?s department of personnel and administrative reforms.?The circular is ridiculous. There are sensitivities involved. How can the government dictate who I should tie rakhi to? We should maintain the professionalism of a workplace? an official told Hindustan Times earlier in the day. She refused to be identified.The notice was issued on Daman and Diu administrator and former Gujarat home minister Praful Kodabhai Patel?s direction, sources said.Rakshabandhan, a celebration of the bond between brothers and sisters, is one of several Hindu festivities and rituals that are no longer confined of private, family affairs but have become tools to push politic al ideologies.In 2014, the year BJP stormed to power at the Centre, Rashtriya Swayamsevak Sangh (RSS) chief Mohan Bhagwat said the festival had ?national significance? and should be celebrated widely ?to protect Hindu culture and live by the values enshrined in it?. The RSS is the ideological parent of the ruling BJP.Last year, women ministers in the Modi government went to the border areas to celebrate the festival with soldiers. A year before, all cabinet ministers were asked to go to their constituencies for the festival.')"
   ]
  },
  {
   "cell_type": "code",
   "execution_count": 63,
   "metadata": {
    "id": "kL1a5O9h3v9n"
   },
   "outputs": [],
   "source": [
    "#This function calculates the SVD similarity between 2 texts.\n",
    "#We first create matrix of both the texts and then factorize them\n",
    "#Then the u matrix is normalized and its 1st column is multiplied to get the topic similarity between 2 different texts\n",
    "def svd_similarity(text1,text2):\n",
    "  text1 = str(text1)\n",
    "  dictionary = create_dictionary(text1)\n",
    "  sentences = sent_tokenize(text1)\n",
    "  matrix = create_matrix(text1,dictionary)\n",
    "  matrix = compute_term_freq(matrix)\n",
    "  u1, sigma1, v1 = singular_value_decomposition(matrix, full_matrices=False) \n",
    "  text2 = str(text2)\n",
    "  dictionary = create_dictionary(text2)\n",
    "  sentences = sent_tokenize(text2)\n",
    "  matrix = create_matrix(text1,dictionary)\n",
    "  matrix = compute_term_freq(matrix)\n",
    "  u2, sigma2, v2 = singular_value_decomposition(matrix, full_matrices=False) \n",
    "  u1 = u1[:,0].reshape((u1.shape[0],1))\n",
    "  u2 = u2[:,0].reshape((u2.shape[0],1))\n",
    "  normalized_u1 = normalize(u1, axis=0).ravel()\n",
    "  normalized_u2 = normalize(u2, axis=0).ravel()\n",
    "  similarity = 0\n",
    "  for i in range(min(len(normalized_u1),len(normalized_u2))):\n",
    "    similarity += (normalized_u1[i]*normalized_u2[i])\n",
    "  return similarity"
   ]
  },
  {
   "cell_type": "code",
   "execution_count": 64,
   "metadata": {
    "id": "WLoHFU3dXn7B"
   },
   "outputs": [],
   "source": [
    "#We calculated cosine similarity between 2 different texts\n",
    "def text_similarity(text1, text2):\n",
    "  count_vector = CountVectorizer()\n",
    "  corpus = [text1,text2]\n",
    "  X_train_counts = count_vector.fit_transform(corpus)\n",
    "  pd.DataFrame(X_train_counts.toarray(),columns=count_vector.get_feature_names(),index=['text1','text2'])\n",
    "  vectorizer = TfidfVectorizer()\n",
    "  trsfm=vectorizer.fit_transform(corpus)\n",
    "  pd.DataFrame(trsfm.toarray(),columns=vectorizer.get_feature_names(),index=['text1','text2'])\n",
    "  return cosine_similarity(trsfm[0:1], trsfm)"
   ]
  },
  {
   "cell_type": "code",
   "execution_count": 65,
   "metadata": {
    "id": "UP0rAA08ZgSE"
   },
   "outputs": [],
   "source": [
    "# We store the different evaluation metrix for each row (i.e cosine similarity, svd similarity, rouge-l score)\n",
    "headline_similarities = []\n",
    "summary_similarities = []\n",
    "svd_summary_similarities = []\n",
    "svd_headline_similarites = []\n",
    "f=[]\n",
    "p=[]\n",
    "r=[]\n",
    "for i in range(len(df['headlines'])):\n",
    "  ROUGE = Rouge()\n",
    "  headline_similarity = text_similarity(str(df['headlines'][i]),str(df['predicted_headline'][i]))\n",
    "  summary_similarity = text_similarity(str(df['summary'][i]),df['predicted_summary'][i])\n",
    "  svd_summary_similarity = svd_similarity(df['summary'][i],df['predicted_summary'][i])\n",
    "  svd_headline_similarity = svd_similarity(df['headlines'][i],df['predicted_headline'][i])\n",
    "  f.append(ROUGE.get_scores(df['summary'][i],df['predicted_summary'][i])[0]['rouge-l']['f'])\n",
    "  p.append(ROUGE.get_scores(df['summary'][i],df['predicted_summary'][i])[0]['rouge-l']['p'])\n",
    "  r.append(ROUGE.get_scores(df['summary'][i],df['predicted_summary'][i])[0]['rouge-l']['f'])\n",
    "  headline_similarities.append(headline_similarity[0][1])\n",
    "  summary_similarities.append(summary_similarity[0][1])\n",
    "  svd_summary_similarities.append(svd_summary_similarity)\n",
    "  svd_headline_similarites.append(svd_headline_similarity)"
   ]
  },
  {
   "cell_type": "markdown",
   "metadata": {
    "id": "CuTu4gmTL1lI"
   },
   "source": [
    "## Evaluation Metrices\n",
    "* Headline similarity scores tell us that using LSA summarization to predict headline is not a good aprroach.\n",
    "* While summary similarity scores shows that summary generated by LSA is nearly 76% similar to actual summary.\n",
    "* Cosine similarity is not correct way to evaluate the summary of article because it compares on the basis of words.\n",
    "* Rouge-l scores are used to evaluate abstractive summaries, while it is not a good evaluation metric for extractive summaries.\n",
    "* SVD similarity is more aprropriate evaluation metric for comparing the actual and predicted summary because we compare the summaries topic wise i.e how close they are to the same topic"
   ]
  },
  {
   "cell_type": "code",
   "execution_count": 66,
   "metadata": {
    "colab": {
     "base_uri": "https://localhost:8080/"
    },
    "id": "kkxC7V3e9umQ",
    "outputId": "61413d74-49f3-4db8-8ae8-e9f040d3c324"
   },
   "outputs": [
    {
     "name": "stdout",
     "output_type": "stream",
     "text": [
      "Cosine similarity scores\n",
      "Mean Headline similarity score:  0.09685153283109714\n",
      "Median Headline similarity score:  0.09685153283109714\n",
      "Mean summary similarity score:  0.4234874202664976\n",
      "Median summary similarity score:  0.4174435627799995\n"
     ]
    }
   ],
   "source": [
    "print(\"Cosine similarity scores\")\n",
    "print(\"Mean Headline similarity score: \",statistics.mean(headline_similarities))\n",
    "print(\"Median Headline similarity score: \",statistics.mean(headline_similarities))\n",
    "print(\"Mean summary similarity score: \",statistics.mean(summary_similarities))\n",
    "print(\"Median summary similarity score: \",statistics.median(summary_similarities))"
   ]
  },
  {
   "cell_type": "code",
   "execution_count": 67,
   "metadata": {
    "colab": {
     "base_uri": "https://localhost:8080/"
    },
    "id": "ERqo_BHr_Jn5",
    "outputId": "96b8a821-7577-4ee6-8d71-f8d5527a3d6f"
   },
   "outputs": [
    {
     "name": "stdout",
     "output_type": "stream",
     "text": [
      "SVD similarity scores\n",
      "Mean Headline similarity score:  0.44860714057766027\n",
      "Median Headline similarity score:  0.44860714057766027\n",
      "Mean summary similarity score:  0.763840456369246\n",
      "Median summary similarity score:  0.7724346134624045\n"
     ]
    }
   ],
   "source": [
    "print(\"SVD similarity scores\")\n",
    "print(\"Mean Headline similarity score: \",statistics.mean(svd_headline_similarites))\n",
    "print(\"Median Headline similarity score: \",statistics.mean(svd_headline_similarites))\n",
    "print(\"Mean summary similarity score: \",statistics.mean(svd_summary_similarities))\n",
    "print(\"Median summary similarity score: \",statistics.median(svd_summary_similarities))"
   ]
  },
  {
   "cell_type": "code",
   "execution_count": 68,
   "metadata": {
    "colab": {
     "base_uri": "https://localhost:8080/"
    },
    "id": "3U9YQQY5gmcx",
    "outputId": "2daf3d55-24ff-4c70-be83-80fb68ab8fb0"
   },
   "outputs": [
    {
     "name": "stdout",
     "output_type": "stream",
     "text": [
      "ROUGE scores\n",
      "Mean summary similarity F1score:  0.30827763960255344\n",
      "Medaian summary similarity F1score:  0.29227256348632136\n",
      "Mean summary similarity precision score:  0.3963128427271248\n",
      "Medaian summary similarity precision score:  0.3678839957035446\n",
      "Mean summary similarity recall score:  0.30827763960255344\n",
      "Medaian summary similarity recall score:  0.29227256348632136\n"
     ]
    }
   ],
   "source": [
    "print(\"ROUGE scores\")\n",
    "print(\"Mean summary similarity F1score: \",statistics.mean(f))\n",
    "print(\"Medaian summary similarity F1score: \",statistics.median(f))\n",
    "print(\"Mean summary similarity precision score: \",statistics.mean(p))\n",
    "print(\"Medaian summary similarity precision score: \",statistics.median(p))\n",
    "print(\"Mean summary similarity recall score: \",statistics.mean(r))\n",
    "print(\"Medaian summary similarity recall score: \",statistics.median(r))"
   ]
  },
  {
   "cell_type": "code",
   "execution_count": null,
   "metadata": {},
   "outputs": [],
   "source": []
  }
 ],
 "metadata": {
  "colab": {
   "collapsed_sections": [],
   "name": "news-summarizer.ipynb",
   "provenance": []
  },
  "kernelspec": {
   "display_name": "Python 3 (ipykernel)",
   "language": "python",
   "name": "python3"
  },
  "language_info": {
   "codemirror_mode": {
    "name": "ipython",
    "version": 3
   },
   "file_extension": ".py",
   "mimetype": "text/x-python",
   "name": "python",
   "nbconvert_exporter": "python",
   "pygments_lexer": "ipython3",
   "version": "3.9.7"
  }
 },
 "nbformat": 4,
 "nbformat_minor": 1
}
